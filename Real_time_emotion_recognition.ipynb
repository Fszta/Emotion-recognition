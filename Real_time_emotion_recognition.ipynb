{
 "cells": [
  {
   "cell_type": "code",
   "execution_count": 1,
   "metadata": {},
   "outputs": [
    {
     "name": "stderr",
     "output_type": "stream",
     "text": [
      "Using TensorFlow backend.\n"
     ]
    }
   ],
   "source": [
    "import cv2\n",
    "import numpy as np\n",
    "from keras.models import load_model"
   ]
  },
  {
   "cell_type": "code",
   "execution_count": 2,
   "metadata": {},
   "outputs": [],
   "source": [
    "emotions = ['Angry','Disgut','Fear','Happy','Sad','Surprise','Neutral']\n",
    "\n",
    "def get_emotion(list_proba):\n",
    "    \n",
    "    emotion_proba = np.max(list_proba)\n",
    "    emotion = emotions[np.argmax(list_proba)]\n",
    "\n",
    "    if emotion == 'Angrey':\n",
    "        color = emotion_proba * np.asarray((255, 0, 0))\n",
    "    elif emotion == 'Disgust':\n",
    "        color = emotion_proba * np.asarray((0, 0, 255))\n",
    "    elif emotion == 'Fear':\n",
    "        color = emotion_proba * np.asarray((255, 255, 0))\n",
    "    elif emotion == 'Happy':\n",
    "        color = emotion_proba * np.asarray((0, 255, 255))\n",
    "    else:\n",
    "        color = emotion_proba * np.asarray((0, 255, 0))\n",
    "    \n",
    "    return emotion, color, emotion_proba"
   ]
  },
  {
   "cell_type": "code",
   "execution_count": 3,
   "metadata": {},
   "outputs": [],
   "source": [
    "# Load face classifier \n",
    "face_cascade = cv2.CascadeClassifier('haarcascade_frontalface_alt.xml')\n",
    "\n",
    "# Load keras model\n",
    "model = load_model(\"model.h5\")\n",
    "\n",
    "cap = cv2.VideoCapture(0)\n",
    "\n",
    "while(True):\n",
    "    \n",
    "    ret,frame = cap.read()\n",
    "    gray = cv2.cvtColor(frame, cv2.COLOR_BGR2GRAY)\n",
    "    \n",
    "    # Get faces\n",
    "    faces = face_cascade.detectMultiScale(gray, 1.3, 5)\n",
    "    \n",
    "    for (x,y,w,h) in faces:\n",
    "        \n",
    "        roi_gray = gray[y:y+h, x:x+w]\n",
    "        roi_color = frame[y:y+h, x:x+w]\n",
    "        roi_gray = np.expand_dims(np.expand_dims(cv2.resize(roi_gray, (48, 48)), -1), 0)\n",
    "        \n",
    "        # Predict proba for the 7 classes\n",
    "        predicted_emotion = model.predict(roi_gray)\n",
    "        emotion , color, proba = get_emotion((predicted_emotion))\n",
    "        \n",
    "        # Add emotion name and proba on frame \n",
    "        legend = emotion + str(proba)\n",
    "        cv2.putText(frame, legend, (x,y), cv2.FONT_HERSHEY_SIMPLEX, 2,color,1)\n",
    "        cv2.rectangle(frame,(x,y),(x+w,y+h),color,2)\n",
    "        \n",
    "    cv2.imshow('frame',frame)\n",
    "    if cv2.waitKey(1) & 0xFF == ord('q'):\n",
    "        break\n",
    "\n",
    "# Release the capture\n",
    "cap.release()\n",
    "cv2.destroyAllWindows()"
   ]
  }
 ],
 "metadata": {
  "kernelspec": {
   "display_name": "Python 3",
   "language": "python",
   "name": "python3"
  },
  "language_info": {
   "codemirror_mode": {
    "name": "ipython",
    "version": 3
   },
   "file_extension": ".py",
   "mimetype": "text/x-python",
   "name": "python",
   "nbconvert_exporter": "python",
   "pygments_lexer": "ipython3",
   "version": "3.5.2"
  }
 },
 "nbformat": 4,
 "nbformat_minor": 2
}
